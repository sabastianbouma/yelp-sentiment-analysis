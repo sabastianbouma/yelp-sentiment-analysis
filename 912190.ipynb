{
 "cells": [
  {
   "cell_type": "code",
   "execution_count": 11,
   "metadata": {},
   "outputs": [],
   "source": [
    "import numpy as np\n",
    "import pandas as pd\n",
    "import re, string, random, pickle, nltk, scipy\n",
    "\n",
    "from sklearn.feature_extraction.text import CountVectorizer\n",
    "from sklearn.svm import LinearSVC\n",
    "from sklearn.metrics import accuracy_score, precision_recall_fscore_support, confusion_matrix\n",
    "from sklearn.naive_bayes import MultinomialNB,BernoulliNB\n",
    "from sklearn.linear_model import LogisticRegression,SGDClassifier\n",
    "from sklearn.discriminant_analysis import LinearDiscriminantAnalysis\n",
    "\n",
    "from collections import Counter\n",
    "\n",
    "from nltk.stem.wordnet import WordNetLemmatizer\n",
    "from nltk.corpus import stopwords\n",
    "from nltk.tag import pos_tag\n",
    "from nltk import FreqDist\n",
    "from nltk.classify import ClassifierI\n",
    "from nltk.classify.scikitlearn import SklearnClassifier\n",
    "from nltk.tokenize import word_tokenize\n",
    "from IPython.core.display import clear_output"
   ]
  },
  {
   "cell_type": "code",
   "execution_count": 6,
   "metadata": {},
   "outputs": [],
   "source": [
    "stop_words = list(set(stopwords.words('english')))\n",
    "text_train = pd.read_csv(r\"datasets/review_text_train.csv\", index_col = False, delimiter = ',', header=0)\n",
    "meta_train = pd.read_csv(r\"datasets/review_meta_train.csv\", index_col = False, delimiter = ',', header=0)\n",
    "text_test = pd.read_csv(r\"datasets/review_text_test.csv\", index_col = False, delimiter = ',', header=0)"
   ]
  },
  {
   "cell_type": "code",
   "execution_count": 10,
   "metadata": {},
   "outputs": [],
   "source": [
    "all_reviews1 = []\n",
    "all_words = []\n",
    "allowed_p_o_s = [\"J\",\"V\",\"R\"]\n",
    "lemmatizer = WordNetLemmatizer()\n",
    "\n",
    "for i in range(0,text_train.shape[0]):\n",
    "    print(\"Requesting page {}/{}\".format(i, text_train.shape[0]))\n",
    "    clear_output(wait = True)\n",
    "    text = text_train.at[i,'review']\n",
    "    rating = meta_train.at[i,'rating']\n",
    "    tup = (text,rating)\n",
    "    all_reviews1.append(tup)\n",
    "    \n",
    "    cleaned_text = re.sub(r'[^(a-zA-Z)\\s]',' ', text)\n",
    "    tokenized_text = word_tokenize(cleaned_text)\n",
    "    \n",
    "    text_w_o_stop = [word for word in tokenized_text if not word in stop_words]\n",
    "\n",
    "    for token, tag in nltk.pos_tag(text_w_o_stop):\n",
    "        if tag[:2] == \"NN\":\n",
    "            p_o_s = 'n'\n",
    "        elif tag[:2] == 'VB':\n",
    "            p_o_s = 'v'\n",
    "        else:\n",
    "            p_o_s = 'a'\n",
    "        token_word = lemmatizer.lemmatize(token, p_o_s)\n",
    "        if tag[0] in allowed_p_o_s:\n",
    "            all_words.append(token_word.lower())"
   ]
  },
  {
   "cell_type": "code",
   "execution_count": 12,
   "metadata": {},
   "outputs": [],
   "source": [
    "all_words = nltk.FreqDist(all_words)\n",
    "word_features = list(all_words.keys())[:5000]\n",
    "random.shuffle(all_reviews1)\n",
    "\n",
    "all_reviews = [a[0] for a in all_reviews1]\n",
    "all_ratings = [a[1] for a in all_reviews1]\n",
    "\n",
    "lim = int(len(all_reviews)*.8)\n",
    "my_reviews_train_clean = all_reviews[:lim]\n",
    "my_reviews_test_clean = all_reviews[lim:]\n",
    "my_target_train = all_ratings[:lim]\n",
    "my_target_test = all_ratings[lim:]"
   ]
  },
  {
   "cell_type": "code",
   "execution_count": 14,
   "metadata": {},
   "outputs": [],
   "source": [
    "my_vectorizer = CountVectorizer(binary=True, ngram_range=(1, 2))\n",
    "my_vectorizer.fit(my_reviews_train_clean)\n",
    "X_all = my_vectorizer.transform(all_reviews)\n",
    "my_test_reviews = list(text_test['review'])\n",
    "X_test_all = my_vectorizer.transform(my_test_reviews)"
   ]
  },
  {
   "cell_type": "code",
   "execution_count": 15,
   "metadata": {},
   "outputs": [],
   "source": [
    "X = my_vectorizer.transform(my_reviews_train_clean)\n",
    "X_test = my_vectorizer.transform(my_reviews_test_clean)\n"
   ]
  },
  {
   "cell_type": "code",
   "execution_count": 16,
   "metadata": {},
   "outputs": [],
   "source": [
    "class EnsembleClassifier(ClassifierI):\n",
    "    \n",
    "    def __init__(self, *classifiers):\n",
    "        self._classifiers = classifiers\n",
    "    \n",
    "    def classify(self, given_features):\n",
    "        classifier_votes = []\n",
    "        for c in self._classifiers:\n",
    "            vote = int(c.predict(given_features))\n",
    "            classifier_votes.append(vote)\n",
    "        return Counter(classifier_votes).most_common(1)[0][0]\n"
   ]
  },
  {
   "cell_type": "code",
   "execution_count": 25,
   "metadata": {},
   "outputs": [],
   "source": [
    "from numpy import linspace"
   ]
  },
  {
   "cell_type": "code",
   "execution_count": 99,
   "metadata": {},
   "outputs": [],
   "source": [
    "def nb_hyperparameters(model):\n",
    "    final_model = None\n",
    "    max_acc = 0\n",
    "    for fit_prior in [True, False]:\n",
    "        for alpha in [0.0001, 0.001,0.01]+ list(linspace(0.1,1,10)):\n",
    "            classifier = model(alpha=alpha, fit_prior=fit_prior)\n",
    "            final_model, max_acc = optimal_model(classifier, max_acc, final_model)\n",
    "    print(f'{final_model=}, {max_acc=}')\n",
    "    return final_model"
   ]
  },
  {
   "cell_type": "code",
   "execution_count": 114,
   "metadata": {},
   "outputs": [],
   "source": [
    "def optimal_model(classifier, max_acc, final_model):\n",
    "    classifier.fit(X, my_target_train)\n",
    "    predictions = classifier.predict(X_test)\n",
    "    acc = accuracy_score(my_target_test, predictions)\n",
    "    if acc>max_acc:\n",
    "        max_acc=acc\n",
    "        final_model = classifier\n",
    "    return final_model, max_acc"
   ]
  },
  {
   "cell_type": "code",
   "execution_count": 116,
   "metadata": {},
   "outputs": [],
   "source": [
    "def lr_hyperparameters(model):\n",
    "    final_model = None\n",
    "    max_acc = 0\n",
    "    i=1\n",
    "    for fit_intercept in [True, False]:\n",
    "        for c in [0.0001, 0.001,0.01]+ list(linspace(0.1,1,10)):\n",
    "            classifier = model(fit_intercept=fit_intercept, C=c)\n",
    "            final_model, max_acc = optimal_model(classifier, max_acc, final_model)\n",
    "            print(f'{i}/13')\n",
    "    print(f'{final_model=}, {max_acc=}')\n",
    "    return final_model         "
   ]
  },
  {
   "cell_type": "code",
   "execution_count": 117,
   "metadata": {},
   "outputs": [],
   "source": [
    "def tune_hyper_parameters():\n",
    "    n_iter = 10\n",
    "    classifiers = [MultinomialNB, BernoulliNB, LogisticRegression, SGDClassifier, LinearSVC]\n",
    "    # mnb = nb_hyperparameters(MultinomialNB)\n",
    "    # bnb = nb_hyperparameters(BernoulliNB)\n",
    "\n",
    "    lr = lr_hyperparameters(LogisticRegression)\n",
    "    max_acc = 0\n",
    "    sgd = None\n",
    "    max_acc = 0\n",
    "    lsvc = None\n",
    "    max_acc = 0\n",
    "    return lr"
   ]
  },
  {
   "cell_type": "code",
   "execution_count": 119,
   "metadata": {},
   "outputs": [
    {
     "data": {
      "text/plain": [
       "LogisticRegression()"
      ]
     },
     "execution_count": 119,
     "metadata": {},
     "output_type": "execute_result"
    }
   ],
   "source": [
    "a"
   ]
  },
  {
   "cell_type": "code",
   "execution_count": 118,
   "metadata": {},
   "outputs": [
    {
     "name": "stdout",
     "output_type": "stream",
     "text": [
      "1/13\n",
      "1/13\n",
      "1/13\n"
     ]
    },
    {
     "name": "stderr",
     "output_type": "stream",
     "text": [
      "/Users/sabastianbouma/opt/anaconda3/lib/python3.8/site-packages/sklearn/linear_model/_logistic.py:763: ConvergenceWarning: lbfgs failed to converge (status=1):\n",
      "STOP: TOTAL NO. of ITERATIONS REACHED LIMIT.\n",
      "\n",
      "Increase the number of iterations (max_iter) or scale the data as shown in:\n",
      "    https://scikit-learn.org/stable/modules/preprocessing.html\n",
      "Please also refer to the documentation for alternative solver options:\n",
      "    https://scikit-learn.org/stable/modules/linear_model.html#logistic-regression\n",
      "  n_iter_i = _check_optimize_result(\n"
     ]
    },
    {
     "name": "stdout",
     "output_type": "stream",
     "text": [
      "1/13\n"
     ]
    },
    {
     "name": "stderr",
     "output_type": "stream",
     "text": [
      "/Users/sabastianbouma/opt/anaconda3/lib/python3.8/site-packages/sklearn/linear_model/_logistic.py:763: ConvergenceWarning: lbfgs failed to converge (status=1):\n",
      "STOP: TOTAL NO. of ITERATIONS REACHED LIMIT.\n",
      "\n",
      "Increase the number of iterations (max_iter) or scale the data as shown in:\n",
      "    https://scikit-learn.org/stable/modules/preprocessing.html\n",
      "Please also refer to the documentation for alternative solver options:\n",
      "    https://scikit-learn.org/stable/modules/linear_model.html#logistic-regression\n",
      "  n_iter_i = _check_optimize_result(\n"
     ]
    },
    {
     "name": "stdout",
     "output_type": "stream",
     "text": [
      "1/13\n"
     ]
    },
    {
     "name": "stderr",
     "output_type": "stream",
     "text": [
      "/Users/sabastianbouma/opt/anaconda3/lib/python3.8/site-packages/sklearn/linear_model/_logistic.py:763: ConvergenceWarning: lbfgs failed to converge (status=1):\n",
      "STOP: TOTAL NO. of ITERATIONS REACHED LIMIT.\n",
      "\n",
      "Increase the number of iterations (max_iter) or scale the data as shown in:\n",
      "    https://scikit-learn.org/stable/modules/preprocessing.html\n",
      "Please also refer to the documentation for alternative solver options:\n",
      "    https://scikit-learn.org/stable/modules/linear_model.html#logistic-regression\n",
      "  n_iter_i = _check_optimize_result(\n"
     ]
    },
    {
     "name": "stdout",
     "output_type": "stream",
     "text": [
      "1/13\n"
     ]
    },
    {
     "name": "stderr",
     "output_type": "stream",
     "text": [
      "/Users/sabastianbouma/opt/anaconda3/lib/python3.8/site-packages/sklearn/linear_model/_logistic.py:763: ConvergenceWarning: lbfgs failed to converge (status=1):\n",
      "STOP: TOTAL NO. of ITERATIONS REACHED LIMIT.\n",
      "\n",
      "Increase the number of iterations (max_iter) or scale the data as shown in:\n",
      "    https://scikit-learn.org/stable/modules/preprocessing.html\n",
      "Please also refer to the documentation for alternative solver options:\n",
      "    https://scikit-learn.org/stable/modules/linear_model.html#logistic-regression\n",
      "  n_iter_i = _check_optimize_result(\n"
     ]
    },
    {
     "name": "stdout",
     "output_type": "stream",
     "text": [
      "1/13\n"
     ]
    },
    {
     "name": "stderr",
     "output_type": "stream",
     "text": [
      "/Users/sabastianbouma/opt/anaconda3/lib/python3.8/site-packages/sklearn/linear_model/_logistic.py:763: ConvergenceWarning: lbfgs failed to converge (status=1):\n",
      "STOP: TOTAL NO. of ITERATIONS REACHED LIMIT.\n",
      "\n",
      "Increase the number of iterations (max_iter) or scale the data as shown in:\n",
      "    https://scikit-learn.org/stable/modules/preprocessing.html\n",
      "Please also refer to the documentation for alternative solver options:\n",
      "    https://scikit-learn.org/stable/modules/linear_model.html#logistic-regression\n",
      "  n_iter_i = _check_optimize_result(\n"
     ]
    },
    {
     "name": "stdout",
     "output_type": "stream",
     "text": [
      "1/13\n"
     ]
    },
    {
     "name": "stderr",
     "output_type": "stream",
     "text": [
      "/Users/sabastianbouma/opt/anaconda3/lib/python3.8/site-packages/sklearn/linear_model/_logistic.py:763: ConvergenceWarning: lbfgs failed to converge (status=1):\n",
      "STOP: TOTAL NO. of ITERATIONS REACHED LIMIT.\n",
      "\n",
      "Increase the number of iterations (max_iter) or scale the data as shown in:\n",
      "    https://scikit-learn.org/stable/modules/preprocessing.html\n",
      "Please also refer to the documentation for alternative solver options:\n",
      "    https://scikit-learn.org/stable/modules/linear_model.html#logistic-regression\n",
      "  n_iter_i = _check_optimize_result(\n"
     ]
    },
    {
     "name": "stdout",
     "output_type": "stream",
     "text": [
      "1/13\n"
     ]
    },
    {
     "name": "stderr",
     "output_type": "stream",
     "text": [
      "/Users/sabastianbouma/opt/anaconda3/lib/python3.8/site-packages/sklearn/linear_model/_logistic.py:763: ConvergenceWarning: lbfgs failed to converge (status=1):\n",
      "STOP: TOTAL NO. of ITERATIONS REACHED LIMIT.\n",
      "\n",
      "Increase the number of iterations (max_iter) or scale the data as shown in:\n",
      "    https://scikit-learn.org/stable/modules/preprocessing.html\n",
      "Please also refer to the documentation for alternative solver options:\n",
      "    https://scikit-learn.org/stable/modules/linear_model.html#logistic-regression\n",
      "  n_iter_i = _check_optimize_result(\n"
     ]
    },
    {
     "name": "stdout",
     "output_type": "stream",
     "text": [
      "1/13\n"
     ]
    },
    {
     "name": "stderr",
     "output_type": "stream",
     "text": [
      "/Users/sabastianbouma/opt/anaconda3/lib/python3.8/site-packages/sklearn/linear_model/_logistic.py:763: ConvergenceWarning: lbfgs failed to converge (status=1):\n",
      "STOP: TOTAL NO. of ITERATIONS REACHED LIMIT.\n",
      "\n",
      "Increase the number of iterations (max_iter) or scale the data as shown in:\n",
      "    https://scikit-learn.org/stable/modules/preprocessing.html\n",
      "Please also refer to the documentation for alternative solver options:\n",
      "    https://scikit-learn.org/stable/modules/linear_model.html#logistic-regression\n",
      "  n_iter_i = _check_optimize_result(\n"
     ]
    },
    {
     "name": "stdout",
     "output_type": "stream",
     "text": [
      "1/13\n"
     ]
    },
    {
     "name": "stderr",
     "output_type": "stream",
     "text": [
      "/Users/sabastianbouma/opt/anaconda3/lib/python3.8/site-packages/sklearn/linear_model/_logistic.py:763: ConvergenceWarning: lbfgs failed to converge (status=1):\n",
      "STOP: TOTAL NO. of ITERATIONS REACHED LIMIT.\n",
      "\n",
      "Increase the number of iterations (max_iter) or scale the data as shown in:\n",
      "    https://scikit-learn.org/stable/modules/preprocessing.html\n",
      "Please also refer to the documentation for alternative solver options:\n",
      "    https://scikit-learn.org/stable/modules/linear_model.html#logistic-regression\n",
      "  n_iter_i = _check_optimize_result(\n"
     ]
    },
    {
     "name": "stdout",
     "output_type": "stream",
     "text": [
      "1/13\n"
     ]
    },
    {
     "name": "stderr",
     "output_type": "stream",
     "text": [
      "/Users/sabastianbouma/opt/anaconda3/lib/python3.8/site-packages/sklearn/linear_model/_logistic.py:763: ConvergenceWarning: lbfgs failed to converge (status=1):\n",
      "STOP: TOTAL NO. of ITERATIONS REACHED LIMIT.\n",
      "\n",
      "Increase the number of iterations (max_iter) or scale the data as shown in:\n",
      "    https://scikit-learn.org/stable/modules/preprocessing.html\n",
      "Please also refer to the documentation for alternative solver options:\n",
      "    https://scikit-learn.org/stable/modules/linear_model.html#logistic-regression\n",
      "  n_iter_i = _check_optimize_result(\n"
     ]
    },
    {
     "name": "stdout",
     "output_type": "stream",
     "text": [
      "1/13\n",
      "1/13\n",
      "1/13\n",
      "1/13\n"
     ]
    },
    {
     "name": "stderr",
     "output_type": "stream",
     "text": [
      "/Users/sabastianbouma/opt/anaconda3/lib/python3.8/site-packages/sklearn/linear_model/_logistic.py:763: ConvergenceWarning: lbfgs failed to converge (status=1):\n",
      "STOP: TOTAL NO. of ITERATIONS REACHED LIMIT.\n",
      "\n",
      "Increase the number of iterations (max_iter) or scale the data as shown in:\n",
      "    https://scikit-learn.org/stable/modules/preprocessing.html\n",
      "Please also refer to the documentation for alternative solver options:\n",
      "    https://scikit-learn.org/stable/modules/linear_model.html#logistic-regression\n",
      "  n_iter_i = _check_optimize_result(\n"
     ]
    },
    {
     "name": "stdout",
     "output_type": "stream",
     "text": [
      "1/13\n"
     ]
    },
    {
     "name": "stderr",
     "output_type": "stream",
     "text": [
      "/Users/sabastianbouma/opt/anaconda3/lib/python3.8/site-packages/sklearn/linear_model/_logistic.py:763: ConvergenceWarning: lbfgs failed to converge (status=1):\n",
      "STOP: TOTAL NO. of ITERATIONS REACHED LIMIT.\n",
      "\n",
      "Increase the number of iterations (max_iter) or scale the data as shown in:\n",
      "    https://scikit-learn.org/stable/modules/preprocessing.html\n",
      "Please also refer to the documentation for alternative solver options:\n",
      "    https://scikit-learn.org/stable/modules/linear_model.html#logistic-regression\n",
      "  n_iter_i = _check_optimize_result(\n"
     ]
    },
    {
     "name": "stdout",
     "output_type": "stream",
     "text": [
      "1/13\n"
     ]
    },
    {
     "name": "stderr",
     "output_type": "stream",
     "text": [
      "/Users/sabastianbouma/opt/anaconda3/lib/python3.8/site-packages/sklearn/linear_model/_logistic.py:763: ConvergenceWarning: lbfgs failed to converge (status=1):\n",
      "STOP: TOTAL NO. of ITERATIONS REACHED LIMIT.\n",
      "\n",
      "Increase the number of iterations (max_iter) or scale the data as shown in:\n",
      "    https://scikit-learn.org/stable/modules/preprocessing.html\n",
      "Please also refer to the documentation for alternative solver options:\n",
      "    https://scikit-learn.org/stable/modules/linear_model.html#logistic-regression\n",
      "  n_iter_i = _check_optimize_result(\n"
     ]
    },
    {
     "name": "stdout",
     "output_type": "stream",
     "text": [
      "1/13\n"
     ]
    },
    {
     "name": "stderr",
     "output_type": "stream",
     "text": [
      "/Users/sabastianbouma/opt/anaconda3/lib/python3.8/site-packages/sklearn/linear_model/_logistic.py:763: ConvergenceWarning: lbfgs failed to converge (status=1):\n",
      "STOP: TOTAL NO. of ITERATIONS REACHED LIMIT.\n",
      "\n",
      "Increase the number of iterations (max_iter) or scale the data as shown in:\n",
      "    https://scikit-learn.org/stable/modules/preprocessing.html\n",
      "Please also refer to the documentation for alternative solver options:\n",
      "    https://scikit-learn.org/stable/modules/linear_model.html#logistic-regression\n",
      "  n_iter_i = _check_optimize_result(\n"
     ]
    },
    {
     "name": "stdout",
     "output_type": "stream",
     "text": [
      "1/13\n"
     ]
    },
    {
     "name": "stderr",
     "output_type": "stream",
     "text": [
      "/Users/sabastianbouma/opt/anaconda3/lib/python3.8/site-packages/sklearn/linear_model/_logistic.py:763: ConvergenceWarning: lbfgs failed to converge (status=1):\n",
      "STOP: TOTAL NO. of ITERATIONS REACHED LIMIT.\n",
      "\n",
      "Increase the number of iterations (max_iter) or scale the data as shown in:\n",
      "    https://scikit-learn.org/stable/modules/preprocessing.html\n",
      "Please also refer to the documentation for alternative solver options:\n",
      "    https://scikit-learn.org/stable/modules/linear_model.html#logistic-regression\n",
      "  n_iter_i = _check_optimize_result(\n"
     ]
    },
    {
     "name": "stdout",
     "output_type": "stream",
     "text": [
      "1/13\n"
     ]
    },
    {
     "name": "stderr",
     "output_type": "stream",
     "text": [
      "/Users/sabastianbouma/opt/anaconda3/lib/python3.8/site-packages/sklearn/linear_model/_logistic.py:763: ConvergenceWarning: lbfgs failed to converge (status=1):\n",
      "STOP: TOTAL NO. of ITERATIONS REACHED LIMIT.\n",
      "\n",
      "Increase the number of iterations (max_iter) or scale the data as shown in:\n",
      "    https://scikit-learn.org/stable/modules/preprocessing.html\n",
      "Please also refer to the documentation for alternative solver options:\n",
      "    https://scikit-learn.org/stable/modules/linear_model.html#logistic-regression\n",
      "  n_iter_i = _check_optimize_result(\n"
     ]
    },
    {
     "name": "stdout",
     "output_type": "stream",
     "text": [
      "1/13\n"
     ]
    },
    {
     "name": "stderr",
     "output_type": "stream",
     "text": [
      "/Users/sabastianbouma/opt/anaconda3/lib/python3.8/site-packages/sklearn/linear_model/_logistic.py:763: ConvergenceWarning: lbfgs failed to converge (status=1):\n",
      "STOP: TOTAL NO. of ITERATIONS REACHED LIMIT.\n",
      "\n",
      "Increase the number of iterations (max_iter) or scale the data as shown in:\n",
      "    https://scikit-learn.org/stable/modules/preprocessing.html\n",
      "Please also refer to the documentation for alternative solver options:\n",
      "    https://scikit-learn.org/stable/modules/linear_model.html#logistic-regression\n",
      "  n_iter_i = _check_optimize_result(\n"
     ]
    },
    {
     "name": "stdout",
     "output_type": "stream",
     "text": [
      "1/13\n"
     ]
    },
    {
     "name": "stderr",
     "output_type": "stream",
     "text": [
      "/Users/sabastianbouma/opt/anaconda3/lib/python3.8/site-packages/sklearn/linear_model/_logistic.py:763: ConvergenceWarning: lbfgs failed to converge (status=1):\n",
      "STOP: TOTAL NO. of ITERATIONS REACHED LIMIT.\n",
      "\n",
      "Increase the number of iterations (max_iter) or scale the data as shown in:\n",
      "    https://scikit-learn.org/stable/modules/preprocessing.html\n",
      "Please also refer to the documentation for alternative solver options:\n",
      "    https://scikit-learn.org/stable/modules/linear_model.html#logistic-regression\n",
      "  n_iter_i = _check_optimize_result(\n"
     ]
    },
    {
     "name": "stdout",
     "output_type": "stream",
     "text": [
      "1/13\n"
     ]
    },
    {
     "name": "stderr",
     "output_type": "stream",
     "text": [
      "/Users/sabastianbouma/opt/anaconda3/lib/python3.8/site-packages/sklearn/linear_model/_logistic.py:763: ConvergenceWarning: lbfgs failed to converge (status=1):\n",
      "STOP: TOTAL NO. of ITERATIONS REACHED LIMIT.\n",
      "\n",
      "Increase the number of iterations (max_iter) or scale the data as shown in:\n",
      "    https://scikit-learn.org/stable/modules/preprocessing.html\n",
      "Please also refer to the documentation for alternative solver options:\n",
      "    https://scikit-learn.org/stable/modules/linear_model.html#logistic-regression\n",
      "  n_iter_i = _check_optimize_result(\n"
     ]
    },
    {
     "name": "stdout",
     "output_type": "stream",
     "text": [
      "1/13\n"
     ]
    },
    {
     "name": "stderr",
     "output_type": "stream",
     "text": [
      "/Users/sabastianbouma/opt/anaconda3/lib/python3.8/site-packages/sklearn/linear_model/_logistic.py:763: ConvergenceWarning: lbfgs failed to converge (status=1):\n",
      "STOP: TOTAL NO. of ITERATIONS REACHED LIMIT.\n",
      "\n",
      "Increase the number of iterations (max_iter) or scale the data as shown in:\n",
      "    https://scikit-learn.org/stable/modules/preprocessing.html\n",
      "Please also refer to the documentation for alternative solver options:\n",
      "    https://scikit-learn.org/stable/modules/linear_model.html#logistic-regression\n",
      "  n_iter_i = _check_optimize_result(\n"
     ]
    },
    {
     "name": "stdout",
     "output_type": "stream",
     "text": [
      "1/13\n",
      "final_model=LogisticRegression(), max_acc=0.8847524047025294\n"
     ]
    }
   ],
   "source": [
    "a = tune_hyper_parameters()"
   ]
  },
  {
   "cell_type": "code",
   "execution_count": 52,
   "metadata": {},
   "outputs": [
    {
     "name": "stderr",
     "output_type": "stream",
     "text": [
      "/Users/sabastianbouma/opt/anaconda3/lib/python3.8/site-packages/sklearn/naive_bayes.py:508: UserWarning: alpha too small will result in numeric errors, setting alpha = 1.0e-10\n",
      "  warnings.warn('alpha too small will result in numeric errors, '\n"
     ]
    },
    {
     "name": "stdout",
     "output_type": "stream",
     "text": [
      "PARAMS: fit_prior=True, alpha=0.0 => acc=0.7299608122550766\n",
      "PARAMS: fit_prior=True, alpha=0.1 => acc=0.8630210188813681\n",
      "PARAMS: fit_prior=True, alpha=0.2 => acc=0.8639116494478091\n",
      "PARAMS: fit_prior=True, alpha=0.30000000000000004 => acc=0.8583897399358746\n",
      "PARAMS: fit_prior=True, alpha=0.4 => acc=0.848414677591735\n",
      "PARAMS: fit_prior=True, alpha=0.5 => acc=0.8323833273957962\n",
      "PARAMS: fit_prior=True, alpha=0.6000000000000001 => acc=0.8120769504809405\n",
      "PARAMS: fit_prior=True, alpha=0.7000000000000001 => acc=0.7931955824723904\n",
      "PARAMS: fit_prior=True, alpha=0.8 => acc=0.7732454577841111\n",
      "PARAMS: fit_prior=True, alpha=0.9 => acc=0.7582828642679017\n",
      "PARAMS: fit_prior=True, alpha=1.0 => acc=0.7442109013181333\n"
     ]
    },
    {
     "name": "stderr",
     "output_type": "stream",
     "text": [
      "/Users/sabastianbouma/opt/anaconda3/lib/python3.8/site-packages/sklearn/naive_bayes.py:508: UserWarning: alpha too small will result in numeric errors, setting alpha = 1.0e-10\n",
      "  warnings.warn('alpha too small will result in numeric errors, '\n"
     ]
    },
    {
     "name": "stdout",
     "output_type": "stream",
     "text": [
      "PARAMS: fit_prior=False, alpha=0.0 => acc=0.7308514428215176\n",
      "PARAMS: fit_prior=False, alpha=0.1 => acc=0.8639116494478091\n",
      "PARAMS: fit_prior=False, alpha=0.2 => acc=0.8648022800142501\n",
      "PARAMS: fit_prior=False, alpha=0.30000000000000004 => acc=0.8603491271820449\n",
      "PARAMS: fit_prior=False, alpha=0.4 => acc=0.8517990737442109\n",
      "PARAMS: fit_prior=False, alpha=0.5 => acc=0.8375489846811542\n",
      "PARAMS: fit_prior=False, alpha=0.6000000000000001 => acc=0.8188457427858924\n",
      "PARAMS: fit_prior=False, alpha=0.7000000000000001 => acc=0.799608122550766\n",
      "PARAMS: fit_prior=False, alpha=0.8 => acc=0.7830423940149626\n",
      "PARAMS: fit_prior=False, alpha=0.9 => acc=0.7641610260064126\n",
      "PARAMS: fit_prior=False, alpha=1.0 => acc=0.7529390808692554\n"
     ]
    }
   ],
   "source": [
    "n_iter = 11\n",
    "max_acc = 0\n",
    "params = {}\n",
    "model = None\n",
    "for fit_prior in [True, False]:\n",
    "    for alpha in linspace(0,1,n_iter):\n",
    "        MNB_clf = MultinomialNB(alpha=alpha, fit_prior=fit_prior)\n",
    "        MNB_clf.fit(X, my_target_train)\n",
    "        predictions = MNB_clf.predict(X_test)\n",
    "        acc = accuracy_score(my_target_test, predictions)\n",
    "        print(f'PARAMS: {fit_prior=}, {alpha=} => {acc=}')\n",
    "        if acc>max_acc:\n",
    "            max_acc=acc\n",
    "            params['fit_prior'] = fit_prior\n",
    "            params['alpha'] = alpha\n",
    "            model = MNB_clf\n",
    "\n",
    "    "
   ]
  },
  {
   "cell_type": "code",
   "execution_count": 31,
   "metadata": {},
   "outputs": [
    {
     "data": {
      "text/plain": [
       "{'fit_prior': False, 'alpha': 0.2}"
      ]
     },
     "execution_count": 31,
     "metadata": {},
     "output_type": "execute_result"
    }
   ],
   "source": [
    "params"
   ]
  },
  {
   "cell_type": "code",
   "execution_count": 18,
   "metadata": {},
   "outputs": [
    {
     "name": "stdout",
     "output_type": "stream",
     "text": [
      "Accuracy for MultinomialNB model = 0.8375489846811542\n",
      "(array([0.92215569, 0.75315126, 0.85228031]), array([0.3255814 , 0.5614722 , 0.99145963]), array([0.48125   , 0.64333782, 0.91661682]), array([ 473, 1277, 3864]))\n",
      "[[ 154  204  115]\n",
      " [  11  717  549]\n",
      " [   2   31 3831]]\n",
      "\n",
      "\n"
     ]
    }
   ],
   "source": [
    "MNB_clf = MultinomialNB(alpha=0.5, fit_prior=False)\n",
    "MNB_clf.fit(X, my_target_train)\n",
    "model = MNB_clf\n",
    "name = str(model).split('(')[0]\n",
    "predictions = model.predict(X_test)\n",
    "print (\"Accuracy for %s model = %s\" % (name, accuracy_score(my_target_test, predictions)))\n",
    "print(precision_recall_fscore_support(my_target_test, predictions))\n",
    "print(confusion_matrix(my_target_test, predictions))\n",
    "print('\\n')"
   ]
  },
  {
   "cell_type": "code",
   "execution_count": 17,
   "metadata": {},
   "outputs": [
    {
     "name": "stderr",
     "output_type": "stream",
     "text": [
      "/Users/sabastianbouma/opt/anaconda3/lib/python3.8/site-packages/sklearn/linear_model/_logistic.py:763: ConvergenceWarning: lbfgs failed to converge (status=1):\n",
      "STOP: TOTAL NO. of ITERATIONS REACHED LIMIT.\n",
      "\n",
      "Increase the number of iterations (max_iter) or scale the data as shown in:\n",
      "    https://scikit-learn.org/stable/modules/preprocessing.html\n",
      "Please also refer to the documentation for alternative solver options:\n",
      "    https://scikit-learn.org/stable/modules/linear_model.html#logistic-regression\n",
      "  n_iter_i = _check_optimize_result(\n"
     ]
    },
    {
     "name": "stdout",
     "output_type": "stream",
     "text": [
      "Accuracy for MultinomialNB model = 0.8375489846811542\n",
      "(array([0.92215569, 0.75315126, 0.85228031]), array([0.3255814 , 0.5614722 , 0.99145963]), array([0.48125   , 0.64333782, 0.91661682]), array([ 473, 1277, 3864]))\n",
      "[[ 154  204  115]\n",
      " [  11  717  549]\n",
      " [   2   31 3831]]\n",
      "\n",
      "\n",
      "Accuracy for BernoulliNB model = 0.7907018168863555\n",
      "(array([0.87709497, 0.75972927, 0.79128819]), array([0.33192389, 0.35160532, 0.99197723]), array([0.48159509, 0.48072805, 0.88033992]), array([ 473, 1277, 3864]))\n",
      "[[ 157  111  205]\n",
      " [  22  449  806]\n",
      " [   0   31 3833]]\n",
      "\n",
      "\n",
      "Accuracy for LogisticRegression model = 0.8843961524759529\n",
      "(array([0.84061697, 0.78880407, 0.9164607 ]), array([0.69133192, 0.72826938, 0.95962733]), array([0.7587007 , 0.75732899, 0.93754741]), array([ 473, 1277, 3864]))\n",
      "[[ 327  101   45]\n",
      " [  54  930  293]\n",
      " [   8  148 3708]]\n",
      "\n",
      "\n",
      "Accuracy for SGDClassifier model = 0.8815461346633416\n",
      "(array([0.85714286, 0.78227848, 0.91266913]), array([0.65961945, 0.72592013, 0.96014493]), array([0.74551971, 0.7530463 , 0.93580527]), array([ 473, 1277, 3864]))\n",
      "[[ 312  108   53]\n",
      " [  48  927  302]\n",
      " [   4  150 3710]]\n",
      "\n",
      "\n",
      "Accuracy for LinearSVC model = 0.8801211257570359\n",
      "(array([0.84334204, 0.78021978, 0.91279644]), array([0.68287526, 0.72278778, 0.95626294]), array([0.7546729 , 0.7504065 , 0.93402427]), array([ 473, 1277, 3864]))\n",
      "[[ 323  102   48]\n",
      " [  49  923  305]\n",
      " [  11  158 3695]]\n",
      "\n",
      "\n",
      "Accuracy for ensemble model = 0.8836836480228002\n",
      "(array([0.92307692, 0.8119349 , 0.89959359]), array([0.63424947, 0.70321065, 0.97386128]), array([0.7518797 , 0.75367184, 0.93525537]), array([ 473, 1277, 3864]))\n",
      "[[ 300  107   66]\n",
      " [  25  898  354]\n",
      " [   0  101 3763]]\n",
      "\n",
      "\n"
     ]
    }
   ],
   "source": [
    "#results based on training set\n",
    "MNB_clf = MultinomialNB(alpha=0.5, fit_prior=False)\n",
    "MNB_clf.fit(X, my_target_train)\n",
    "\n",
    "BNB_clf = BernoulliNB(alpha = 0.001)\n",
    "BNB_clf.fit(X, my_target_train)\n",
    "\n",
    "LogReg_clf = LogisticRegression(C=0.5)\n",
    "LogReg_clf.fit(X, my_target_train)\n",
    "\n",
    "SGD_clf = SGDClassifier(loss='perceptron')\n",
    "SGD_clf.fit(X, my_target_train)\n",
    "\n",
    "SVC_clf = LinearSVC(C=0.05)\n",
    "SVC_clf.fit(X, my_target_train)\n",
    "\n",
    "classifiers = [MNB_clf, BNB_clf, LogReg_clf, SGD_clf, SVC_clf]\n",
    "for model in classifiers:\n",
    "    name = str(model).split('(')[0]\n",
    "    predictions = model.predict(X_test)\n",
    "    print (\"Accuracy for %s model = %s\" % (name, accuracy_score(my_target_test, predictions)))\n",
    "    print(precision_recall_fscore_support(my_target_test, predictions))\n",
    "    print(confusion_matrix(my_target_test, predictions))\n",
    "    print('\\n')\n",
    "    \n",
    "ensemble_clf = EnsembleClassifier(MNB_clf, BNB_clf, LogReg_clf, SGD_clf, SVC_clf)\n",
    "ensemble_preds = [ensemble_clf.classify(features) for features in X_test]\n",
    "print (\"Accuracy for ensemble model = %s\" % (accuracy_score(my_target_test, ensemble_preds)))\n",
    "print(precision_recall_fscore_support(my_target_test, ensemble_preds))\n",
    "print(confusion_matrix(my_target_test, ensemble_preds))\n",
    "\n",
    "print('\\n')"
   ]
  },
  {
   "cell_type": "code",
   "execution_count": 15,
   "metadata": {},
   "outputs": [
    {
     "name": "stdout",
     "output_type": "stream",
     "text": [
      "Accuracy for MultinomialNB model = 0.8254364089775561\n",
      "(array([0.93333333, 0.71987642, 0.84435016]), array([0.31237323, 0.54102167, 0.98746409]), array([0.46808511, 0.61776403, 0.9103166 ]), array([ 493, 1292, 3829]))\n",
      "[[ 154  227  112]\n",
      " [   8  699  585]\n",
      " [   3   45 3781]]\n",
      "\n",
      "\n",
      "Accuracy for BernoulliNB model = 0.7746704666904168\n",
      "(array([0.91017964, 0.71153846, 0.7774359 ]), array([0.30831643, 0.31501548, 0.98981457]), array([0.46060606, 0.43669528, 0.87086397]), array([ 493, 1292, 3829]))\n",
      "[[ 152  128  213]\n",
      " [  13  407  872]\n",
      " [   2   37 3790]]\n",
      "\n",
      "\n",
      "Accuracy for LogisticRegression model = 0.8806555040969006\n",
      "(array([0.86170213, 0.78714524, 0.91014851]), array([0.65720081, 0.72987616, 0.96030295]), array([0.7456847 , 0.75742972, 0.93455331]), array([ 493, 1292, 3829]))\n",
      "[[ 324  116   53]\n",
      " [  39  943  310]\n",
      " [  13  139 3677]]\n",
      "\n",
      "\n",
      "Accuracy for SGDClassifier model = 0.8769148557178482\n",
      "(array([0.8616188 , 0.74942529, 0.92078451]), array([0.6693712 , 0.75696594, 0.94411073]), array([0.75342466, 0.75317674, 0.93230174]), array([ 493, 1292, 3829]))\n",
      "[[ 330  122   41]\n",
      " [  44  978  270]\n",
      " [   9  205 3615]]\n",
      "\n",
      "\n",
      "Accuracy for LinearSVC model = 0.8751335945849662\n",
      "(array([0.84935065, 0.77483444, 0.90773439]), array([0.663286 , 0.7244582, 0.9532515]), array([0.74487472, 0.7488    , 0.92993631]), array([ 493, 1292, 3829]))\n",
      "[[ 327  107   59]\n",
      " [  44  936  312]\n",
      " [  14  165 3650]]\n",
      "\n",
      "\n"
     ]
    }
   ],
   "source": [
    "#results for the competition test set\n",
    "MNB_clf = MultinomialNB(alpha=0.5, fit_prior=False)\n",
    "MNB_clf.fit(X_all, all_ratings)\n",
    "\n",
    "BNB_clf = BernoulliNB(alpha = 0.001)\n",
    "BNB_clf.fit(X_all, all_ratings)\n",
    "\n",
    "LogReg_clf = LogisticRegression(C=0.5)\n",
    "LogReg_clf.fit(X_all, all_ratings)\n",
    "\n",
    "SGD_clf = SGDClassifier(loss='perceptron')\n",
    "SGD_clf.fit(X_all, all_ratings)\n",
    "\n",
    "SVC_clf = LinearSVC(C=0.05)\n",
    "SVC_clf.fit(X_all, all_ratings)\n",
    "\n",
    "classifiers = [MNB_clf, BNB_clf, LogReg_clf, SGD_clf, SVC_clf]\n",
    "for model in classifiers:\n",
    "    name = str(model).split('(')[0]\n",
    "    predictions = model.predict(X_test_all)\n",
    "\n",
    "ensemble_clf = EnsembleClassifier(MNB_clf, BNB_clf, LogReg_clf, SGD_clf, SVC_clf)\n",
    "ensemble_preds = [ensemble_clf.classify(features) for features in X_test_all]"
   ]
  },
  {
   "cell_type": "code",
   "execution_count": null,
   "metadata": {},
   "outputs": [],
   "source": []
  },
  {
   "cell_type": "code",
   "execution_count": 76,
   "metadata": {},
   "outputs": [
    {
     "name": "stdout",
     "output_type": "stream",
     "text": [
      "Accuracy for model = 0.8845742785892412\n",
      "(array([0.9009009 , 0.82309125, 0.89897789]), array([0.65359477, 0.69442262, 0.97424008]), array([0.75757576, 0.75330209, 0.93509705]), array([ 459, 1273, 3882]))\n",
      "\n",
      "\n"
     ]
    }
   ],
   "source": []
  },
  {
   "cell_type": "code",
   "execution_count": null,
   "metadata": {},
   "outputs": [],
   "source": []
  }
 ],
 "metadata": {
  "kernelspec": {
   "display_name": "Python 3",
   "language": "python",
   "name": "python3"
  },
  "language_info": {
   "codemirror_mode": {
    "name": "ipython",
    "version": 3
   },
   "file_extension": ".py",
   "mimetype": "text/x-python",
   "name": "python",
   "nbconvert_exporter": "python",
   "pygments_lexer": "ipython3",
   "version": "3.8.8"
  }
 },
 "nbformat": 4,
 "nbformat_minor": 4
}
